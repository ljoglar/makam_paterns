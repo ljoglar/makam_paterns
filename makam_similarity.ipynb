{
 "cells": [
  {
   "cell_type": "code",
   "execution_count": 18,
   "metadata": {},
   "outputs": [],
   "source": [
    "import pandas as pd \n",
    "import os\n",
    "from itertools import islice\n",
    "from matplotlib import pyplot as plt\n",
    "from scipy.spatial.distance import pdist, cdist, squareform"
   ]
  },
  {
   "cell_type": "code",
   "execution_count": 19,
   "metadata": {},
   "outputs": [],
   "source": [
    "# global variables\n",
    "min_n, max_n = 5, 8"
   ]
  },
  {
   "cell_type": "code",
   "execution_count": 3,
   "metadata": {},
   "outputs": [],
   "source": [
    "gen = os.walk('../SymbTr/txt')\n",
    "\n",
    "paths = [(a, b, c) for a, b, c in gen]\n",
    "paths = [ (a,c) for a,b,c in paths][0]\n",
    "paths = [path for path in paths[1]]\n",
    "\n",
    "makam_dict = {}\n",
    "\n",
    "for path in paths[1]:\n",
    "    makam = path.split('--')[0]\n",
    "    if makam in makam_dict:\n",
    "        makam_dict[makam] += 1\n",
    "    else:\n",
    "        makam_dict[makam] = 1\n",
    "\n",
    "for m in makam_dict:\n",
    "    if makam_dict[m] > 19:\n",
    "        print(m, makam_dict[m])"
   ]
  },
  {
   "cell_type": "code",
   "execution_count": 4,
   "metadata": {},
   "outputs": [
    {
     "data": {
      "text/plain": [
       "{'rast': ['rast--turku--nimsofyan--sira_sira--.txt',\n",
       "  'rast--sarki--musemmen--vuslatindan_gayri--haci_arif_bey.txt',\n",
       "  'rast--sarki--senginsemai--sevda_ile_dillendi--munir_nurettin_selcuk.txt'],\n",
       " 'ussak': ['ussak--yuruksemai--yuruksemai--dila_cunem--mahmut_celebi.txt',\n",
       "  'ussak--turku--sofyan--telgirafin_tellerine-2.txt',\n",
       "  'ussak--turku--nimsofyan--ayva_cicek--.txt']}"
      ]
     },
     "execution_count": 4,
     "metadata": {},
     "output_type": "execute_result"
    }
   ],
   "source": [
    "makam_dict = {'rast', 'ussak'}\n",
    "paths_new = {}\n",
    "\n",
    "for makam in makam_dict:\n",
    "    counter = 0\n",
    "    paths_list = []\n",
    "    for path in paths:\n",
    "        if path.split('--')[0] == makam:\n",
    "            paths_list.append(path)\n",
    "            counter += 1\n",
    "        if counter == 3:\n",
    "            paths_new[makam] = paths_list\n",
    "            break\n",
    "paths_new"
   ]
  },
  {
   "cell_type": "code",
   "execution_count": 5,
   "metadata": {},
   "outputs": [],
   "source": [
    "def get_relative_intervals(list_of_tuples):\n",
    "    lt = [(0, list_of_tuples[0][1])]\n",
    "    for i in range(1, len(list_of_tuples)):\n",
    "        lt.append((list_of_tuples[i][0] - list_of_tuples[i - 1][0], list_of_tuples[i][1]))\n",
    "    return lt"
   ]
  },
  {
   "cell_type": "code",
   "execution_count": 27,
   "metadata": {},
   "outputs": [],
   "source": [
    "def get_sublists(listt, num):\n",
    "    lists = []\n",
    "    for i in range(0, len(listt)-num +1):\n",
    "        lists.append(list(islice(listt, i, i+num)))\n",
    "    return lists"
   ]
  },
  {
   "cell_type": "code",
   "execution_count": 61,
   "metadata": {},
   "outputs": [],
   "source": [
    "def separete_lists_from_list_of_tuples(list_of_notes, min_n, max_n):\n",
    "    komas_list = []\n",
    "    dur_list = []\n",
    "    for komas, dur in list_of_notes:\n",
    "        komas_list.append(komas)\n",
    "        dur_list.append(dur)\n",
    "        \n",
    "    return komas_list, dur_list\n",
    "    \n",
    "def norm_durations(durations):\n",
    "    norm = []\n",
    "    max_dur = max([x[1] for x in durations])\n",
    "    for tdur in durations:\n",
    "        norm.append(int((max_dur / tdur[1] * tdur[0])*100)/100)\n",
    "    return norm"
   ]
  },
  {
   "cell_type": "code",
   "execution_count": 63,
   "metadata": {},
   "outputs": [
    {
     "data": {
      "text/plain": [
       "<matplotlib.image.AxesImage at 0x7f75a0b8aa58>"
      ]
     },
     "execution_count": 63,
     "metadata": {},
     "output_type": "execute_result"
    },
    {
     "data": {
      "image/png": "[encoded data removed]",
      "text/plain": [
       "<Figure size 288x288 with 1 Axes>"
      ]
     },
     "metadata": {
      "needs_background": "light"
     },
     "output_type": "display_data"
    },
    {
     "data": {
      "image/png": "[encoded data removed]",
      "text/plain": [
       "<Figure size 288x288 with 1 Axes>"
      ]
     },
     "metadata": {
      "needs_background": "light"
     },
     "output_type": "display_data"
    }
   ],
   "source": [
    "list_of_notes = ((23, (2,2)), (43, (3,3)), (34, (3,4)), (54, (6,4)), (34, (4,3)), (24, (4,3)), (12,(2,4)), (52, (1,6)), (62, (8,8)))\n",
    "list_komas, list_dur = separete_lists_from_list_of_tuples(list_of_notes, min_n, max_n)\n",
    "\n",
    "norm_list_dur = norm_durations(list_dur)\n",
    "\n",
    "sublist3_komas = get_sublists(list_komas, 3)\n",
    "sublist3_dur = get_sublists(norm_list_dur, 3)\n",
    "\n",
    "dist_komas = pdist(sublist3_komas, 'euclidean')\n",
    "dist_dur = pdist(sublist3_dur, 'euclidean')\n",
    "\n",
    "plt.matshow(squareform(dist_komas))\n",
    "plt.matshow(squareform(dist_dur))\n",
    "\n"
   ]
  },
  {
   "cell_type": "code",
   "execution_count": null,
   "metadata": {},
   "outputs": [],
   "source": []
  },
  {
   "cell_type": "code",
   "execution_count": null,
   "metadata": {},
   "outputs": [],
   "source": []
  }
 ],
 "metadata": {
  "kernelspec": {
   "display_name": "Python 3",
   "language": "python",
   "name": "python3"
  },
  "language_info": {
   "codemirror_mode": {
    "name": "ipython",
    "version": 3
   },
   "file_extension": ".py",
   "mimetype": "text/x-python",
   "name": "python",
   "nbconvert_exporter": "python",
   "pygments_lexer": "ipython3",
   "version": "3.6.8"
  }
 },
 "nbformat": 4,
 "nbformat_minor": 2
}
