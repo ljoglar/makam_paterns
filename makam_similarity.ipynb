{
 "cells": [
  {
   "cell_type": "code",
   "execution_count": 27,
   "metadata": {},
   "outputs": [],
   "source": [
    "import pandas as pd \n",
    "import os\n",
    "from itertools import islice"
   ]
  },
  {
   "cell_type": "code",
   "execution_count": 28,
   "metadata": {},
   "outputs": [],
   "source": [
    "# global variables\n",
    "min_n, max_n = 5, 8"
   ]
  },
  {
   "cell_type": "code",
   "execution_count": 29,
   "metadata": {},
   "outputs": [],
   "source": [
    "gen = os.walk('../SymbTr/txt')\n",
    "\n",
    "paths = [(a, b, c) for a, b, c in gen]\n",
    "paths = [ (a,c) for a,b,c in paths][0]\n",
    "paths = [path for path in paths[1]]\n",
    "\n",
    "makam_dict = {}\n",
    "\n",
    "for path in paths[1]:\n",
    "    makam = path.split('--')[0]\n",
    "    if makam in makam_dict:\n",
    "        makam_dict[makam] += 1\n",
    "    else:\n",
    "        makam_dict[makam] = 1\n",
    "\n",
    "for m in makam_dict:\n",
    "    if makam_dict[m] > 19:\n",
    "        print(m, makam_dict[m])"
   ]
  },
  {
   "cell_type": "code",
   "execution_count": 30,
   "metadata": {},
   "outputs": [
    {
     "data": {
      "text/plain": [
       "{'rast': ['rast--turku--nimsofyan--sira_sira--.txt',\n",
       "  'rast--sarki--musemmen--vuslatindan_gayri--haci_arif_bey.txt',\n",
       "  'rast--sarki--senginsemai--sevda_ile_dillendi--munir_nurettin_selcuk.txt'],\n",
       " 'ussak': ['ussak--yuruksemai--yuruksemai--dila_cunem--mahmut_celebi.txt',\n",
       "  'ussak--turku--sofyan--telgirafin_tellerine-2.txt',\n",
       "  'ussak--turku--nimsofyan--ayva_cicek--.txt']}"
      ]
     },
     "execution_count": 30,
     "metadata": {},
     "output_type": "execute_result"
    }
   ],
   "source": [
    "makam_dict = {'rast', 'ussak'}\n",
    "paths_new = {}\n",
    "\n",
    "for makam in makam_dict:\n",
    "    counter = 0\n",
    "    paths_list = []\n",
    "    for path in paths:\n",
    "        if path.split('--')[0] == makam:\n",
    "            paths_list.append(path)\n",
    "            counter += 1\n",
    "        if counter == 3:\n",
    "            paths_new[makam] = paths_list\n",
    "            break\n",
    "paths_new"
   ]
  },
  {
   "cell_type": "code",
   "execution_count": 31,
   "metadata": {},
   "outputs": [],
   "source": [
    "def get_relative_intervals(list_of_tuples):\n",
    "    lt = [(0, list_of_tuples[0][1])]\n",
    "    for i in range(1, len(list_of_tuples)):\n",
    "        lt.append((list_of_tuples[i][0] - list_of_tuples[i - 1][0], list_of_tuples[i][1]))\n",
    "    return lt"
   ]
  },
  {
   "cell_type": "code",
   "execution_count": 44,
   "metadata": {},
   "outputs": [],
   "source": [
    "def get_sublists(listt, num):\n",
    "    print(listt)\n",
    "    print(num)\n",
    "    lists = []\n",
    "    for i in range(0, len(listt)-num +1):\n",
    "        lists.append(list(islice(listt, i, i+num)))\n",
    "    return lists"
   ]
  },
  {
   "cell_type": "code",
   "execution_count": 33,
   "metadata": {},
   "outputs": [],
   "source": [
    "def separete_lists_from_list_of_tuples(list_of_notes, min_n, max_n):\n",
    "    #print(list_of_notes)\n",
    "    komas_list = []\n",
    "    dur_list = []\n",
    "    for komas, dur in list_of_notes:\n",
    "        print(komas)\n",
    "        print(dur)\n",
    "        komas_list.append\n",
    "    \n",
    "    \n",
    "    \n",
    "    \n",
    "    \n",
    "    \n",
    "#inter = []\n",
    "#dur = []\n",
    "#for ind, phrase in enumerate(phrases):\n",
    "#    inter.append([])\n",
    "#    dur.append([])\n",
    "#    for n in phrase:\n",
    "#        inter[ind].append(n[0])\n",
    "#        dur[ind].append(n[1])"
   ]
  },
  {
   "cell_type": "code",
   "execution_count": 34,
   "metadata": {},
   "outputs": [
    {
     "name": "stdout",
     "output_type": "stream",
     "text": [
      "((23, (2, 2)), (43, (3, 3)), (34, (3, 4)))\n",
      "23\n",
      "(2, 2)\n",
      "43\n",
      "(3, 3)\n",
      "34\n",
      "(3, 4)\n"
     ]
    }
   ],
   "source": [
    "list_of_notes = ((23, (2,2)), (43, (3,3)), (34, (3,4)))\n",
    "get_similarity_matrix_from_list_of_tuples(list_of_notes, min_n, max_n)"
   ]
  },
  {
   "cell_type": "code",
   "execution_count": 45,
   "metadata": {},
   "outputs": [
    {
     "name": "stdout",
     "output_type": "stream",
     "text": [
      "[23, 43, 34, 54, 34, 65, 67, 78]\n",
      "3\n",
      "[[23, 43, 34], [43, 34, 54], [34, 54, 34], [54, 34, 65], [34, 65, 67], [65, 67, 78]]\n"
     ]
    }
   ],
   "source": [
    "listt = [23,43,34,54,34,65,67,78]\n",
    "print(get_sublists(listt, 3))"
   ]
  },
  {
   "cell_type": "code",
   "execution_count": null,
   "metadata": {},
   "outputs": [],
   "source": []
  }
 ],
 "metadata": {
  "kernelspec": {
   "display_name": "Python 3",
   "language": "python",
   "name": "python3"
  },
  "language_info": {
   "codemirror_mode": {
    "name": "ipython",
    "version": 3
   },
   "file_extension": ".py",
   "mimetype": "text/x-python",
   "name": "python",
   "nbconvert_exporter": "python",
   "pygments_lexer": "ipython3",
   "version": "3.6.8"
  }
 },
 "nbformat": 4,
 "nbformat_minor": 2
}
