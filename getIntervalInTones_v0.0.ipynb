{
 "cells": [
  {
   "cell_type": "code",
   "execution_count": 1,
   "metadata": {},
   "outputs": [],
   "source": [
    "from music21 import *\n",
    "import os.path"
   ]
  },
  {
   "cell_type": "code",
   "execution_count": 4,
   "metadata": {},
   "outputs": [],
   "source": [
    "makamScore = 'acemasiran--beste--zencir--hayatin_cumleye--dellalzade_2.xml'\n",
    "pathToScores = '/home/ljoglar/Documents/MTG/AMP_LAB/SymbTr/MusicXML/'\n",
    "score = converter.parse(pathToScores + makamScore)"
   ]
  },
  {
   "cell_type": "code",
   "execution_count": 5,
   "metadata": {},
   "outputs": [],
   "source": [
    "def getIntervalInTones(note1, note2):\n",
    "    accidentalsMap = {\n",
    "     'double-flat': -1,\n",
    "     'double-slash-flat':-8/9,\n",
    "     'flat':-5/9,\n",
    "     'slash-flat':-4/9,\n",
    "     'quarter-flat':-1/9,\n",
    "     'half-flat' : -1/9,\n",
    "     'double-sharp':1,\n",
    "     'quarter-sharp':1/9,\n",
    "     'half-sharp': 1/9,\n",
    "     'sharp':4/9,\n",
    "     'slash-quarter-sharp':5/9,\n",
    "     'slash-sharp':8/9}\n",
    "    noteObj1 = note.Note(note1.step + str(note1.octave))\n",
    "    noteObj2 = note.Note(note2.step + str(note2.octave))\n",
    "    inter = interval.notesToChromatic(noteObj1, noteObj2)\n",
    "    tonesAccidental1 = accidentalsMap[note1.pitch.accidental.name]\n",
    "    tonesAccidental2 = accidentalsMap[note2.pitch.accidental.name]\n",
    "    totalTones = - tonesAccidental1 + (inter.semitones/2) + tonesAccidental2\n",
    "    return totalTones;"
   ]
  },
  {
   "cell_type": "code",
   "execution_count": null,
   "metadata": {},
   "outputs": [],
   "source": []
  }
 ],
 "metadata": {
  "kernelspec": {
   "display_name": "Python 3",
   "language": "python",
   "name": "python3"
  },
  "language_info": {
   "codemirror_mode": {
    "name": "ipython",
    "version": 3
   },
   "file_extension": ".py",
   "mimetype": "text/x-python",
   "name": "python",
   "nbconvert_exporter": "python",
   "pygments_lexer": "ipython3",
   "version": "3.6.8"
  }
 },
 "nbformat": 4,
 "nbformat_minor": 2
}
