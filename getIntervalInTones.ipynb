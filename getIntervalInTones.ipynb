{
 "cells": [
  {
   "cell_type": "code",
   "execution_count": 2,
   "metadata": {},
   "outputs": [],
   "source": [
    "from music21 import *\n",
    "import os.path"
   ]
  },
  {
   "cell_type": "markdown",
   "metadata": {},
   "source": [
    "Delete from `acemasiran--beste--zencir--hayatin_cumleye--dellalzade.xml` the key tag and name it `acemasiran--beste--zencir--hayatin_cumleye--dellalzade_2.xml`\n",
    "\n",
    "Change `pathToScores` to your path to the folder containing the scores\n"
   ]
  },
  {
   "cell_type": "code",
   "execution_count": 3,
   "metadata": {},
   "outputs": [],
   "source": [
    "makamScore = 'acemasiran--beste--zencir--hayatin_cumleye--dellalzade_2.xml'\n",
    "pathToScores = '/home/ljoglar/Documents/MTG/AMP_LAB/SymbTr/MusicXML/'\n",
    "score = converter.parse(pathToScores + makamScore)"
   ]
  },
  {
   "cell_type": "code",
   "execution_count": 13,
   "metadata": {},
   "outputs": [],
   "source": [
    "def getIntervalInTones(note1, note2):\n",
    "    accidentalsMap = {\n",
    "     'double-flat': -1,\n",
    "     'double-slash-flat':-8/9,\n",
    "     'flat':-5/9,\n",
    "     'slash-flat':-4/9,\n",
    "     'quarter-flat':-1/9,\n",
    "     'half-flat' : -1/9,\n",
    "     'double-sharp':1,\n",
    "     'quarter-sharp':1/9,\n",
    "     'half-sharp': 1/9,\n",
    "     'sharp':4/9,\n",
    "     'slash-quarter-sharp':5/9,\n",
    "     'slash-sharp':8/9}\n",
    "    noteObj1 = note.Note(note1.step + str(note1.octave))\n",
    "    noteObj2 = note.Note(note2.step + str(note2.octave))\n",
    "    inter = interval.notesToChromatic(noteObj1, noteObj2)\n",
    "    tonesAccidental1 = accidentalsMap[note1.pitch.accidental.name]\n",
    "    tonesAccidental2 = accidentalsMap[note2.pitch.accidental.name]\n",
    "    totalTones = - tonesAccidental1 + (inter.semitones/2) + tonesAccidental2\n",
    "    return totalTones;\n"
   ]
  },
  {
   "cell_type": "markdown",
   "metadata": {},
   "source": [
    "To test it, using `D sharp` and `F slash-quarter-sharp` the interval in tones should be 1.6112 ish\n",
    "\n",
    "I'll create a `D sharp` and we can get the `F slash-quarter-sharp` from the note in position `102` of the score."
   ]
  },
  {
   "cell_type": "code",
   "execution_count": 14,
   "metadata": {},
   "outputs": [
    {
     "name": "stdout",
     "output_type": "stream",
     "text": [
      "<music21.stream.Part Music_flat>\n"
     ]
    }
   ],
   "source": [
    "notes = score.parts[0].flat.notes.stream()\n",
    "print(notes)"
   ]
  },
  {
   "cell_type": "code",
   "execution_count": 15,
   "metadata": {},
   "outputs": [
    {
     "name": "stdout",
     "output_type": "stream",
     "text": [
      "<music21.note.Note D#>\n"
     ]
    }
   ],
   "source": [
    "n1 = note.Note('D5')\n",
    "n1.pitch.accidental = pitch.Accidental('sharp')\n",
    "print(n1)"
   ]
  },
  {
   "cell_type": "code",
   "execution_count": 16,
   "metadata": {},
   "outputs": [
    {
     "name": "stdout",
     "output_type": "stream",
     "text": [
      "F5\n",
      "slash-quarter-sharp\n"
     ]
    }
   ],
   "source": [
    "print(notes[102].pitch)\n",
    "print(notes[102].pitch.accidental.name)"
   ]
  },
  {
   "cell_type": "code",
   "execution_count": 17,
   "metadata": {},
   "outputs": [
    {
     "name": "stdout",
     "output_type": "stream",
     "text": [
      "1.6111111111111112\n",
      "-1.611111111111111\n"
     ]
    }
   ],
   "source": [
    "print(getIntervalInTones(n1, notes[102]))\n",
    "print(getIntervalInTones(notes[102], n1))"
   ]
  }
 ],
 "metadata": {
  "kernelspec": {
   "display_name": "Python 3",
   "language": "python",
   "name": "python3"
  },
  "language_info": {
   "codemirror_mode": {
    "name": "ipython",
    "version": 3
   },
   "file_extension": ".py",
   "mimetype": "text/x-python",
   "name": "python",
   "nbconvert_exporter": "python",
   "pygments_lexer": "ipython3",
   "version": "3.6.8"
  }
 },
 "nbformat": 4,
 "nbformat_minor": 2
}
